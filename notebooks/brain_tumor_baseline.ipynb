{
 "cells": [
  {
   "cell_type": "markdown",
   "id": "babfbbf8",
   "metadata": {},
   "source": [
    "# Brain Tumor MRI Classification - Scikit-learn Baseline\n",
    "\n",
    "## Introduction\n",
    "\n",
    "Brain MRI scans provide structured information about tissue patterns. Differences in shape, contrast, and texture can indicate whether a tumour is present and, if so, what type. For a radiologist, these differences are interpreted visually. For us, the task is to translate them into numerical features that a computer can analyse.\n",
    "\n",
    "The dataset we will use - [Brain Tumor MRI Dataset (CC0)](https://www.kaggle.com/datasets/masoudnickparvar/brain-tumor-mri-dataset) - contains four categories: glioma, meningioma, pituitary tumour, and no tumour. Our aim is not to build a clinical tool but to create a clear, reproducible baseline using classical machine learning.\n",
    "\n",
    "We will do this by:\n",
    "\n",
    "* Loading the dataset either from local files or through the Kaggle API if credentials are available\n",
    "* Preprocessing the MRI images (resize, grayscale, normalise) so they are consistent\n",
    "* Extracting features using Histogram of Oriented Gradients (HOG), a method that captures edge and texture patterns\n",
    "* Training simple classifiers such as Linear SVM and RBF SVM\n",
    "* Evaluating the models with accuracy, precision, recall, and F1 score\n",
    "* Discussing the limitations of this approach and the ethical considerations of using medical datasets\n",
    "\n",
    "The goal is to show, step by step, how images can be prepared and processed for classical machine learning, and how model results should be interpreted with care. This gives us a strong foundation for understanding the workflow before moving into more advanced methods such as deep learning.\n",
    "\n",
    "Perfect — here’s the updated **Setup — Libraries & Environment** section with `python -m pip` commands throughout (no bare `pip install`). I also kept the step-by-step walk-through for environment creation, installs, and Kaggle API setup.\n",
    "\n",
    "## Setup — Libraries & Environment\n",
    "\n",
    "Any meaningful exploration begins with the right tools. In neuroscience, this might mean calibrated electrodes or imaging equipment. In data analysis, our “lab bench” is the computational environment. Getting this right ensures that every step that follows is reliable and reproducible.\n",
    "\n",
    "The core tools we’ll use are:\n",
    "\n",
    "* **Python** — The language itself. Human-readable, flexible, and supported by a massive ecosystem of libraries.\n",
    "* **NumPy** — The mathematical engine for fast, vectorised operations on arrays and matrices.\n",
    "* **Pandas** — A high-level library for structuring and manipulating tabular data.\n",
    "* **Matplotlib** — The foundational plotting library for turning numbers into visual insights.\n",
    "* **scikit-learn** — Our main machine learning toolkit, providing SVMs, metrics, and utilities.\n",
    "* **scikit-image** — Adds image-specific tools such as Histogram of Oriented Gradients (HOG).\n",
    "* **kaggle** — A small command-line tool for downloading datasets directly from Kaggle.\n",
    "\n",
    "### Creating your environment\n",
    "\n",
    "It’s best to isolate your work in a virtual environment and install the required packages from `requirements.txt`. This ensures consistency and reduces version conflicts.\n",
    "\n",
    "```bash\n",
    "# Create a virtual environment\n",
    "python -m venv venv\n",
    "source venv/bin/activate    # macOS/Linux\n",
    "venv\\Scripts\\activate       # Windows\n",
    "\n",
    "# Install the required libraries\n",
    "python -m pip install -r requirements.txt\n",
    "```\n",
    "\n",
    "That’s a great way to phrase it. Since you’ve **already provided the dataset in `data/raw/`**, we can make this section crystal clear: the data is ready to go, but users can re-download or update it themselves if they want. Here’s a tightened version you can drop straight into your notebook or README:\n",
    "\n",
    "Perfect — here’s how you can present it in your notebook so users can run the update **directly in Python**, without leaving Jupyter. I’ll keep the explanation clear and practical.\n",
    "\n",
    "### Accessing the dataset\n",
    "\n",
    "The dataset is already included in this repository under `data/raw/`, so you can start working immediately.\n",
    "\n",
    "If you prefer to download or update the dataset yourself, there are two options:\n",
    "\n",
    "* **Manual download:**\n",
    "\n",
    "  1. Visit the [Kaggle dataset page](https://www.kaggle.com/datasets/masoudnickparvar/brain-tumor-mri-dataset).\n",
    "  2. Download the files manually.\n",
    "  3. Place them in `data/raw/` inside your project folder.\n",
    "\n",
    "* **Automatic download (requires API key):**\n",
    "\n",
    "  1. In your Kaggle account settings, generate an API token. This downloads a file called `kaggle.json`.\n",
    "  2. Place `kaggle.json` in `~/.kaggle/` (Linux/macOS) or `C:\\Users\\<YourName>\\.kaggle\\` (Windows).\n",
    "  3. With the API configured, you can run the following Python cell inside the notebook to **force-update** the dataset into `data/raw/`:"
   ]
  },
  {
   "cell_type": "code",
   "execution_count": 6,
   "id": "3df84143",
   "metadata": {},
   "outputs": [
    {
     "name": "stdout",
     "output_type": "stream",
     "text": [
      "Dataset URL: https://www.kaggle.com/datasets/masoudnickparvar/brain-tumor-mri-dataset\n"
     ]
    }
   ],
   "source": [
    "import os, shutil\n",
    "from kaggle.api.kaggle_api_extended import KaggleApi\n",
    "\n",
    "# Remove old dataset (optional clean overwrite)\n",
    "shutil.rmtree(\"../data/raw\", ignore_errors=True)\n",
    "os.makedirs(\"../data/raw\", exist_ok=True)  # Create fresh folder\n",
    "\n",
    "# Authenticate with Kaggle (requires kaggle.json or env vars)\n",
    "api = KaggleApi()\n",
    "api.authenticate()\n",
    "\n",
    "# Download and extract the Brain Tumor MRI dataset\n",
    "api.dataset_download_files(\n",
    "    \"masoudnickparvar/brain-tumor-mri-dataset\",\n",
    "    path=\"../data/raw\",\n",
    "    unzip=True\n",
    ")"
   ]
  }
 ],
 "metadata": {
  "kernelspec": {
   "display_name": "Python 3",
   "language": "python",
   "name": "python3"
  },
  "language_info": {
   "codemirror_mode": {
    "name": "ipython",
    "version": 3
   },
   "file_extension": ".py",
   "mimetype": "text/x-python",
   "name": "python",
   "nbconvert_exporter": "python",
   "pygments_lexer": "ipython3",
   "version": "3.12.10"
  }
 },
 "nbformat": 4,
 "nbformat_minor": 5
}
